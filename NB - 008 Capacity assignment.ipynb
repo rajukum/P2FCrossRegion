{
 "cells": [
  {
   "cell_type": "code",
   "execution_count": 1,
   "id": "2fb94b39-a418-47e2-b670-bb519a36cf28",
   "metadata": {
    "microsoft": {
     "language": "python",
     "language_group": "synapse_pyspark"
    }
   },
   "outputs": [
    {
     "data": {
      "application/vnd.livy.statement-meta+json": {
       "execution_finish_time": "2025-08-23T18:47:28.6064733Z",
       "execution_start_time": "2025-08-23T18:47:03.2627062Z",
       "livy_statement_state": "available",
       "normalized_state": "finished",
       "parent_msg_id": "9e7c940c-b540-49b0-9239-85dac736f94f",
       "queued_time": "2025-08-23T18:46:51.2675337Z",
       "session_id": "3bdfbcb5-08e5-4d50-8cdc-27efc2cdb95e",
       "session_start_time": "2025-08-23T18:46:51.2691056Z",
       "spark_pool": null,
       "state": "finished",
       "statement_id": 8,
       "statement_ids": [
        3,
        4,
        5,
        6,
        7,
        8
       ]
      },
      "text/plain": [
       "StatementMeta(, 3bdfbcb5-08e5-4d50-8cdc-27efc2cdb95e, 8, Finished, Available, Finished)"
      ]
     },
     "metadata": {},
     "output_type": "display_data"
    },
    {
     "name": "stdout",
     "output_type": "stream",
     "text": [
      "\n",
      "\u001b[1m[\u001b[0m\u001b[34;49mnotice\u001b[0m\u001b[1;39;49m]\u001b[0m\u001b[39;49m A new release of pip is available: \u001b[0m\u001b[31;49m24.0\u001b[0m\u001b[39;49m -> \u001b[0m\u001b[32;49m25.2\u001b[0m\n",
      "\u001b[1m[\u001b[0m\u001b[34;49mnotice\u001b[0m\u001b[1;39;49m]\u001b[0m\u001b[39;49m To update, run: \u001b[0m\u001b[32;49mpython -m pip install --upgrade pip\u001b[0m\n",
      "Note: you may need to restart the kernel to use updated packages.\n",
      "Warning: PySpark kernel has been restarted to use updated packages.\n",
      "\n"
     ]
    }
   ],
   "source": [
    "# Welcome to your new notebook\n",
    "# Type here in the cell editor to add code!\n",
    "%pip install semantic-link-labs --q"
   ]
  },
  {
   "cell_type": "code",
   "execution_count": 2,
   "id": "661e6130-9d19-4d99-b3b3-2c0cff3b5262",
   "metadata": {
    "microsoft": {
     "language": "python",
     "language_group": "synapse_pyspark"
    }
   },
   "outputs": [
    {
     "data": {
      "application/vnd.livy.statement-meta+json": {
       "execution_finish_time": "2025-08-23T18:47:35.5864815Z",
       "execution_start_time": "2025-08-23T18:47:32.1857362Z",
       "livy_statement_state": "available",
       "normalized_state": "finished",
       "parent_msg_id": "32ce9094-3196-47ab-93c6-7bbe0b61f7e8",
       "queued_time": "2025-08-23T18:46:51.4932386Z",
       "session_id": "3bdfbcb5-08e5-4d50-8cdc-27efc2cdb95e",
       "session_start_time": null,
       "spark_pool": null,
       "state": "finished",
       "statement_id": 10,
       "statement_ids": [
        10
       ]
      },
      "text/plain": [
       "StatementMeta(, 3bdfbcb5-08e5-4d50-8cdc-27efc2cdb95e, 10, Finished, Available, Finished)"
      ]
     },
     "metadata": {},
     "output_type": "display_data"
    }
   ],
   "source": [
    "import sempy_labs as labs\n",
    "import sempy_labs.admin as admin\n",
    "from pyspark.sql import Row\n",
    "import datetime"
   ]
  },
  {
   "cell_type": "code",
   "execution_count": 3,
   "id": "d6b47641-5582-4581-bafa-4023ff853bfd",
   "metadata": {
    "microsoft": {
     "language": "python",
     "language_group": "synapse_pyspark"
    }
   },
   "outputs": [
    {
     "data": {
      "application/vnd.livy.statement-meta+json": {
       "execution_finish_time": "2025-08-23T18:47:35.8643191Z",
       "execution_start_time": "2025-08-23T18:47:35.5886821Z",
       "livy_statement_state": "available",
       "normalized_state": "finished",
       "parent_msg_id": "57a7923f-5fcf-4401-9bdb-e2053dd1dcad",
       "queued_time": "2025-08-23T18:46:51.8215258Z",
       "session_id": "3bdfbcb5-08e5-4d50-8cdc-27efc2cdb95e",
       "session_start_time": null,
       "spark_pool": null,
       "state": "finished",
       "statement_id": 11,
       "statement_ids": [
        11
       ]
      },
      "text/plain": [
       "StatementMeta(, 3bdfbcb5-08e5-4d50-8cdc-27efc2cdb95e, 11, Finished, Available, Finished)"
      ]
     },
     "metadata": {},
     "output_type": "display_data"
    }
   ],
   "source": [
    "def log_to_table(level, message):\n",
    "    now = datetime.datetime.utcnow().isoformat()\n",
    "    log_df = spark.createDataFrame([Row(timestamp=now, level=level, message=message)])\n",
    "    log_df.write.format(\"delta\").mode(\"append\").saveAsTable(\"Capacityassignment\")"
   ]
  },
  {
   "cell_type": "code",
   "execution_count": null,
   "id": "497d7be8-8364-485f-88ee-ea28ad746b84",
   "metadata": {
    "microsoft": {
     "language": "python",
     "language_group": "synapse_pyspark"
    }
   },
   "outputs": [],
   "source": [
    "workspaces_df = spark.sql(f\"select P,F from p2f_pfna_capacity_id_mapping\")\n",
    "for row in workspaces_df.collect():\n",
    "    src_id = row['P']\n",
    "    tgt_id = row['F']\n",
    "    \n",
    "    try:\n",
    "       \n",
    "      admin.assign_workspaces_to_capacity(\n",
    "            source_capacity=src_id,\n",
    "            target_capacity=tgt_id,\n",
    "            workspace=None,\n",
    "        )\n",
    "      #labs.refresh_semantic_model(dataset=ds_name, refresh_type='clearValues', workspace=ws_id)\n",
    "      print(f\"Workspace assignment completed for fabric capacity successfull for : '{src_id}'.\")\n",
    "      log_to_table(\"INFO\", f\"Workspace assigment completed for fabric capacity successfull for : {tgt_id}.\")\n",
    "    except Exception as e:\n",
    "        print(f\"  ❌ FAILED: An error occurred while processing capacity assignment  {src_id}.\")\n",
    "        print(f\"    Error details: {e}\")\n",
    "        log_to_table(\"ERROR\", f\"An error occurred while processing capacity assignment {tgt_id} error: {str(e)}\")"
   ]
  }
 ],
 "metadata": {
  "dependencies": {
   "environment": {},
   "lakehouse": {
    "default_lakehouse": "81d02931-4a16-4e13-9e03-aefe5b47bc7f",
    "default_lakehouse_name": "metadatascan_pfna_lh_0823",
    "default_lakehouse_workspace_id": "b1317605-ef25-462c-9dda-82a68b53f242",
    "known_lakehouses": [
     {
      "id": "81d02931-4a16-4e13-9e03-aefe5b47bc7f"
     }
    ]
   }
  },
  "kernel_info": {
   "name": "synapse_pyspark"
  },
  "kernelspec": {
   "display_name": "synapse_pyspark",
   "name": "synapse_pyspark"
  },
  "language_info": {
   "name": "python"
  },
  "microsoft": {
   "language": "python",
   "language_group": "synapse_pyspark",
   "ms_spell_check": {
    "ms_spell_check_language": "en"
   }
  },
  "nteract": {
   "version": "nteract-front-end@1.0.0"
  },
  "spark_compute": {
   "compute_id": "/trident/default",
   "session_options": {
    "conf": {
     "spark.synapse.nbs.session.timeout": "1200000"
    }
   }
  }
 },
 "nbformat": 4,
 "nbformat_minor": 5
}
