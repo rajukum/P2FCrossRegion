{
 "cells": [
  {
   "cell_type": "code",
   "execution_count": 1,
   "id": "2fb94b39-a418-47e2-b670-bb519a36cf28",
   "metadata": {
    "jupyter": {
     "outputs_hidden": true
    },
    "microsoft": {
     "language": "python",
     "language_group": "synapse_pyspark"
    }
   },
   "outputs": [
    {
     "data": {
      "application/vnd.livy.statement-meta+json": {
       "execution_finish_time": "2025-08-23T17:27:09.0430109Z",
       "execution_start_time": "2025-08-23T17:26:48.3911573Z",
       "livy_statement_state": "available",
       "normalized_state": "finished",
       "parent_msg_id": "1e76264e-4bf1-4ed8-a09b-7bad967254e8",
       "queued_time": "2025-08-23T17:26:34.8152784Z",
       "session_id": "b53fc5aa-44b3-483b-b475-c468f71af5e1",
       "session_start_time": "2025-08-23T17:26:34.8168093Z",
       "spark_pool": null,
       "state": "finished",
       "statement_id": 8,
       "statement_ids": [
        3,
        4,
        5,
        6,
        7,
        8
       ]
      },
      "text/plain": [
       "StatementMeta(, b53fc5aa-44b3-483b-b475-c468f71af5e1, 8, Finished, Available, Finished)"
      ]
     },
     "metadata": {},
     "output_type": "display_data"
    },
    {
     "name": "stdout",
     "output_type": "stream",
     "text": [
      "\n",
      "\u001b[1m[\u001b[0m\u001b[34;49mnotice\u001b[0m\u001b[1;39;49m]\u001b[0m\u001b[39;49m A new release of pip is available: \u001b[0m\u001b[31;49m24.0\u001b[0m\u001b[39;49m -> \u001b[0m\u001b[32;49m25.2\u001b[0m\n",
      "\u001b[1m[\u001b[0m\u001b[34;49mnotice\u001b[0m\u001b[1;39;49m]\u001b[0m\u001b[39;49m To update, run: \u001b[0m\u001b[32;49mpython -m pip install --upgrade pip\u001b[0m\n",
      "Note: you may need to restart the kernel to use updated packages.\n",
      "Warning: PySpark kernel has been restarted to use updated packages.\n",
      "\n"
     ]
    }
   ],
   "source": [
    "# Welcome to your new notebook\n",
    "# Type here in the cell editor to add code!\n",
    "%pip install semantic-link-labs --q"
   ]
  },
  {
   "cell_type": "code",
   "execution_count": 2,
   "id": "661e6130-9d19-4d99-b3b3-2c0cff3b5262",
   "metadata": {
    "microsoft": {
     "language": "python",
     "language_group": "synapse_pyspark"
    }
   },
   "outputs": [
    {
     "data": {
      "application/vnd.livy.statement-meta+json": {
       "execution_finish_time": "2025-08-23T17:27:15.9957051Z",
       "execution_start_time": "2025-08-23T17:27:12.594205Z",
       "livy_statement_state": "available",
       "normalized_state": "finished",
       "parent_msg_id": "27f66de4-4038-4194-945d-abb6fc1fad65",
       "queued_time": "2025-08-23T17:26:36.0658178Z",
       "session_id": "b53fc5aa-44b3-483b-b475-c468f71af5e1",
       "session_start_time": null,
       "spark_pool": null,
       "state": "finished",
       "statement_id": 10,
       "statement_ids": [
        10
       ]
      },
      "text/plain": [
       "StatementMeta(, b53fc5aa-44b3-483b-b475-c468f71af5e1, 10, Finished, Available, Finished)"
      ]
     },
     "metadata": {},
     "output_type": "display_data"
    }
   ],
   "source": [
    "import sempy_labs as labs\n",
    "import sempy_labs.admin as labs_admin\n",
    "from pyspark.sql import Row\n",
    "import datetime"
   ]
  },
  {
   "cell_type": "code",
   "execution_count": 3,
   "id": "d6b47641-5582-4581-bafa-4023ff853bfd",
   "metadata": {
    "microsoft": {
     "language": "python",
     "language_group": "synapse_pyspark"
    }
   },
   "outputs": [
    {
     "data": {
      "application/vnd.livy.statement-meta+json": {
       "execution_finish_time": "2025-08-23T17:27:16.2567095Z",
       "execution_start_time": "2025-08-23T17:27:15.9978199Z",
       "livy_statement_state": "available",
       "normalized_state": "finished",
       "parent_msg_id": "16c8d159-eb37-465b-a2ee-46953734b4c7",
       "queued_time": "2025-08-23T17:26:36.5599033Z",
       "session_id": "b53fc5aa-44b3-483b-b475-c468f71af5e1",
       "session_start_time": null,
       "spark_pool": null,
       "state": "finished",
       "statement_id": 11,
       "statement_ids": [
        11
       ]
      },
      "text/plain": [
       "StatementMeta(, b53fc5aa-44b3-483b-b475-c468f71af5e1, 11, Finished, Available, Finished)"
      ]
     },
     "metadata": {},
     "output_type": "display_data"
    }
   ],
   "source": [
    "def log_to_table(level, message):\n",
    "    now = datetime.datetime.utcnow().isoformat()\n",
    "    log_df = spark.createDataFrame([Row(timestamp=now, level=level, message=message)])\n",
    "    log_df.write.format(\"delta\").mode(\"append\").saveAsTable(\"workspaceAddUser\")"
   ]
  },
  {
   "cell_type": "code",
   "execution_count": null,
   "id": "497d7be8-8364-485f-88ee-ea28ad746b84",
   "metadata": {
    "collapsed": false,
    "microsoft": {
     "language": "python",
     "language_group": "synapse_pyspark"
    }
   },
   "outputs": [],
   "source": [
    "current_user = mssparkutils.env.getUserName()\n",
    "workspaces_df = spark.sql(f\"Select DISTINCT Workspace_Id from models_discovery_status\")\n",
    "log_to_table(\"INFO\", f\"Adding user. {current_user} to workspaces started.\")\n",
    "for row in workspaces_df.collect():\n",
    "    ws_id = row['Workspace_Id']\n",
    "    try:\n",
    "      labs_admin.add_user_to_workspace(workspace=ws_id, user=current_user, role=\"Admin\")\n",
    "      print(f\" -User Added to workspace ID.'{ws_id}'.\")\n",
    "      log_to_table(\"INFO\", f\"User Added to workspace ID. {ws_id}.\")\n",
    "    except Exception as e:\n",
    "        print(f\"  ❌ FAILED: An error occurred while Adding User to workspace {ws_id}.\")\n",
    "        print(f\"    Error details: {e}\")\n",
    "        log_to_table(\"ERROR\", f\"An error occurred while Adding User to workspace {ws_id} error: {str(e)}\")\n",
    "log_to_table(\"INFO\", f\"Adding user. {current_user} to workspaces Completed.\")"
   ]
  }
 ],
 "metadata": {
  "dependencies": {
   "environment": {},
   "lakehouse": {
    "default_lakehouse": "81d02931-4a16-4e13-9e03-aefe5b47bc7f",
    "default_lakehouse_name": "metadatascan_pfna_lh_0823",
    "default_lakehouse_workspace_id": "b1317605-ef25-462c-9dda-82a68b53f242",
    "known_lakehouses": [
     {
      "id": "81d02931-4a16-4e13-9e03-aefe5b47bc7f"
     }
    ]
   }
  },
  "kernel_info": {
   "name": "synapse_pyspark"
  },
  "kernelspec": {
   "display_name": "synapse_pyspark",
   "name": "synapse_pyspark"
  },
  "language_info": {
   "name": "python"
  },
  "microsoft": {
   "language": "python",
   "language_group": "synapse_pyspark",
   "ms_spell_check": {
    "ms_spell_check_language": "en"
   }
  },
  "nteract": {
   "version": "nteract-front-end@1.0.0"
  },
  "spark_compute": {
   "compute_id": "/trident/default",
   "session_options": {
    "conf": {
     "spark.synapse.nbs.session.timeout": "1200000"
    }
   }
  }
 },
 "nbformat": 4,
 "nbformat_minor": 5
}
