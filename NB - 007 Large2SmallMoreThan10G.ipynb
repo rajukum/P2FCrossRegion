{
 "cells": [
  {
   "cell_type": "code",
   "execution_count": 1,
   "id": "2fb94b39-a418-47e2-b670-bb519a36cf28",
   "metadata": {
    "jupyter": {
     "outputs_hidden": true
    },
    "microsoft": {
     "language": "python",
     "language_group": "synapse_pyspark"
    }
   },
   "outputs": [
    {
     "data": {
      "application/vnd.livy.statement-meta+json": {
       "execution_finish_time": "2025-08-23T18:39:14.0016982Z",
       "execution_start_time": "2025-08-23T18:38:53.228577Z",
       "livy_statement_state": "available",
       "normalized_state": "finished",
       "parent_msg_id": "fb8f8a41-9f1d-4c5a-b8e5-4ec40f878c0d",
       "queued_time": "2025-08-23T18:38:41.1331017Z",
       "session_id": "7f017e20-1f11-428b-8b8b-2dc58708643a",
       "session_start_time": "2025-08-23T18:38:41.1345909Z",
       "spark_pool": null,
       "state": "finished",
       "statement_id": 8,
       "statement_ids": [
        3,
        4,
        5,
        6,
        7,
        8
       ]
      },
      "text/plain": [
       "StatementMeta(, 7f017e20-1f11-428b-8b8b-2dc58708643a, 8, Finished, Available, Finished)"
      ]
     },
     "metadata": {},
     "output_type": "display_data"
    },
    {
     "name": "stdout",
     "output_type": "stream",
     "text": [
      "\n",
      "\u001b[1m[\u001b[0m\u001b[34;49mnotice\u001b[0m\u001b[1;39;49m]\u001b[0m\u001b[39;49m A new release of pip is available: \u001b[0m\u001b[31;49m24.0\u001b[0m\u001b[39;49m -> \u001b[0m\u001b[32;49m25.2\u001b[0m\n",
      "\u001b[1m[\u001b[0m\u001b[34;49mnotice\u001b[0m\u001b[1;39;49m]\u001b[0m\u001b[39;49m To update, run: \u001b[0m\u001b[32;49mpython -m pip install --upgrade pip\u001b[0m\n",
      "Note: you may need to restart the kernel to use updated packages.\n",
      "Warning: PySpark kernel has been restarted to use updated packages.\n",
      "\n"
     ]
    }
   ],
   "source": [
    "# Welcome to your new notebook\n",
    "# Type here in the cell editor to add code!\n",
    "%pip install semantic-link-labs --q"
   ]
  },
  {
   "cell_type": "code",
   "execution_count": 2,
   "id": "661e6130-9d19-4d99-b3b3-2c0cff3b5262",
   "metadata": {
    "microsoft": {
     "language": "python",
     "language_group": "synapse_pyspark"
    }
   },
   "outputs": [
    {
     "data": {
      "application/vnd.livy.statement-meta+json": {
       "execution_finish_time": "2025-08-23T18:39:20.9499186Z",
       "execution_start_time": "2025-08-23T18:39:17.5705545Z",
       "livy_statement_state": "available",
       "normalized_state": "finished",
       "parent_msg_id": "e5cd75e5-98f3-4743-9977-fc3cb99d5867",
       "queued_time": "2025-08-23T18:38:41.237931Z",
       "session_id": "7f017e20-1f11-428b-8b8b-2dc58708643a",
       "session_start_time": null,
       "spark_pool": null,
       "state": "finished",
       "statement_id": 10,
       "statement_ids": [
        10
       ]
      },
      "text/plain": [
       "StatementMeta(, 7f017e20-1f11-428b-8b8b-2dc58708643a, 10, Finished, Available, Finished)"
      ]
     },
     "metadata": {},
     "output_type": "display_data"
    }
   ],
   "source": [
    "import sempy_labs as labs\n",
    "import sempy_labs.admin as labs_admin\n",
    "from pyspark.sql import Row\n",
    "import datetime"
   ]
  },
  {
   "cell_type": "code",
   "execution_count": 3,
   "id": "d6b47641-5582-4581-bafa-4023ff853bfd",
   "metadata": {
    "microsoft": {
     "language": "python",
     "language_group": "synapse_pyspark"
    }
   },
   "outputs": [
    {
     "data": {
      "application/vnd.livy.statement-meta+json": {
       "execution_finish_time": "2025-08-23T18:39:21.2370972Z",
       "execution_start_time": "2025-08-23T18:39:20.95211Z",
       "livy_statement_state": "available",
       "normalized_state": "finished",
       "parent_msg_id": "d535dc51-ab45-497e-a2ec-fb70c5443e88",
       "queued_time": "2025-08-23T18:38:41.4137124Z",
       "session_id": "7f017e20-1f11-428b-8b8b-2dc58708643a",
       "session_start_time": null,
       "spark_pool": null,
       "state": "finished",
       "statement_id": 11,
       "statement_ids": [
        11
       ]
      },
      "text/plain": [
       "StatementMeta(, 7f017e20-1f11-428b-8b8b-2dc58708643a, 11, Finished, Available, Finished)"
      ]
     },
     "metadata": {},
     "output_type": "display_data"
    }
   ],
   "source": [
    "def log_to_table(level, message):\n",
    "    now = datetime.datetime.utcnow().isoformat()\n",
    "    log_df = spark.createDataFrame([Row(timestamp=now, level=level, message=message)])\n",
    "    log_df.write.format(\"delta\").mode(\"append\").saveAsTable(\"semanticModel_conversion_toSmall\")"
   ]
  },
  {
   "cell_type": "code",
   "execution_count": null,
   "id": "497d7be8-8364-485f-88ee-ea28ad746b84",
   "metadata": {
    "collapsed": false,
    "microsoft": {
     "language": "python",
     "language_group": "synapse_pyspark"
    }
   },
   "outputs": [],
   "source": [
    "current_user = mssparkutils.env.getUserName()\n",
    "workspaces_df = spark.sql(f\"Select DISTINCT Dataset_Id ,Dataset_Name, Workspace_Id from models_discovery_status where Status = 'Success'\")\n",
    "for row in workspaces_df.collect():\n",
    "    ws_id = row['Workspace_Id']\n",
    "    ds_id = row['Dataset_Id']\n",
    "    ds_name = row['Dataset_Name']\n",
    "    try:\n",
    "      labs.set_semantic_model_storage_format(dataset=ds_id, storage_format='Small', workspace=ws_id)\n",
    "      print(f\" -Format converted successfully.'{ds_name}'.\")\n",
    "      log_to_table(\"INFO\", f\"Format converted successfully. {ds_name}.\")\n",
    "    except Exception as e:\n",
    "        print(f\"  ❌ FAILED: An error occurred while processing model {ds_name}.\")\n",
    "        print(f\"    Error details: {e}\")\n",
    "        log_to_table(\"ERROR\", f\"Exception occurred: in dataset {ds_name} error: {str(e)}\")"
   ]
  }
 ],
 "metadata": {
  "dependencies": {
   "environment": {},
   "lakehouse": {
    "default_lakehouse": "81d02931-4a16-4e13-9e03-aefe5b47bc7f",
    "default_lakehouse_name": "metadatascan_pfna_lh_0823",
    "default_lakehouse_workspace_id": "b1317605-ef25-462c-9dda-82a68b53f242",
    "known_lakehouses": [
     {
      "id": "81d02931-4a16-4e13-9e03-aefe5b47bc7f"
     }
    ]
   }
  },
  "kernel_info": {
   "name": "synapse_pyspark"
  },
  "kernelspec": {
   "display_name": "synapse_pyspark",
   "name": "synapse_pyspark"
  },
  "language_info": {
   "name": "python"
  },
  "microsoft": {
   "language": "python",
   "language_group": "synapse_pyspark",
   "ms_spell_check": {
    "ms_spell_check_language": "en"
   }
  },
  "nteract": {
   "version": "nteract-front-end@1.0.0"
  },
  "spark_compute": {
   "compute_id": "/trident/default",
   "session_options": {
    "conf": {
     "spark.synapse.nbs.session.timeout": "1200000"
    }
   }
  }
 },
 "nbformat": 4,
 "nbformat_minor": 5
}
